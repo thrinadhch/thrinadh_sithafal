{
  "nbformat": 4,
  "nbformat_minor": 0,
  "metadata": {
    "colab": {
      "provenance": []
    },
    "kernelspec": {
      "name": "python3",
      "display_name": "Python 3"
    },
    "language_info": {
      "name": "python"
    }
  },
  "cells": [
    {
      "cell_type": "code",
      "source": [],
      "metadata": {
        "id": "nnXIvx6NYppV"
      },
      "execution_count": null,
      "outputs": []
    },
    {
      "cell_type": "code",
      "execution_count": 1,
      "metadata": {
        "colab": {
          "base_uri": "https://localhost:8080/"
        },
        "id": "7T4veGCiX_To",
        "outputId": "d5d1230f-9756-4be7-c05e-2af80546e6b7"
      },
      "outputs": [
        {
          "output_type": "stream",
          "name": "stdout",
          "text": [
            "Request error occured: 403 Client Error: Forbidden for url: https://www.uchicago.edu/\n",
            "Successfully scraped content from https://www.washington.edu/\n",
            "Successfully scraped content from https://www.stanford.edu/\n",
            "Successfully scraped content from https://und.edu/\n",
            "Enter your query: university\n",
            "Search results:\n",
            "\n",
            "From: https://www.washington.edu/\n",
            "Content: UW Homepage &lt;iframe src=\"https://www.googletagmanager.com/ns.html?id=GTM-KQ6QQBT\" height=\"0\" width=\"0\" style=\"display:none;visibility:hidden\" aria-hidden=\"true\"&gt;&lt;/iframe&gt; Skip to main cont...\n",
            "\n",
            "From: https://www.stanford.edu/\n",
            "Content: Stanford University Skip to content Stanford University Information for: Students Faculty & Staff Families Visitors Alumni Search Menu News Events Academics Research Health Care Campus Life Admission ...\n",
            "\n",
            "From: https://und.edu/\n",
            "Content: UND | Grand Forks, ND | University of North Dakota Skip to main content Open Menu Close Menu University of North Dakota Open Search Close Search University of North Dakota Info For Admitted Students C...\n"
          ]
        }
      ],
      "source": [
        "import requests\n",
        "from bs4 import BeautifulSoup\n",
        "\n",
        "def scrape_website(session, url):\n",
        "    try:\n",
        "        response = session.get(url, timeout=10)\n",
        "        response.raise_for_status()\n",
        "        soup = BeautifulSoup(response.text, 'html.parser')\n",
        "        text_content = soup.get_text(separator=' ', strip=True)\n",
        "        return text_content\n",
        "    except requests.exceptions.SSLError as ssl_err:\n",
        "        print(f\"SSL error occured: {ssl_err}\")\n",
        "    except requests.exceptions.RequestException as req_err:\n",
        "        print(f\"Request error occured: {req_err}\")\n",
        "    except Exception as e:\n",
        "        print(f\"An error occured: {e}\")\n",
        "        return None\n",
        "\n",
        "\n",
        "def answer_query(query, scraped_data):\n",
        "  results = []\n",
        "  query = query.lower()\n",
        "  for url, content in scraped_data.items():\n",
        "    if query in content.lower():\n",
        "      results.append((url, content))\n",
        "  return results\n",
        "\n",
        "urls = [\n",
        "    \"https://www.uchicago.edu/\",\n",
        "    \"https://www.washington.edu/\",\n",
        "    \"https://www.stanford.edu/\",\n",
        "    \"https://und.edu/\",\n",
        "]\n",
        "\n",
        "\n",
        "with requests.Session() as session:\n",
        "    scraped_data = {}\n",
        "    for url in urls:\n",
        "        content = scrape_website(session, url)\n",
        "        if content:\n",
        "            print(f\"Successfully scraped content from {url}\")\n",
        "            scraped_data[url] = content\n",
        "\n",
        "    user_query = input(\"Enter your query: \")\n",
        "\n",
        "    results = answer_query(user_query, scraped_data)\n",
        "\n",
        "    if results:\n",
        "        print(\"Search results:\")\n",
        "        for url, content in results:\n",
        "            print(f\"\\nFrom: {url}\\nContent: {content[:200]}...\")\n",
        "    else:\n",
        "        print(\"No matching results found.\")"
      ]
    },
    {
      "cell_type": "code",
      "source": [],
      "metadata": {
        "id": "ttEykZxqYm8N"
      },
      "execution_count": null,
      "outputs": []
    }
  ]
}